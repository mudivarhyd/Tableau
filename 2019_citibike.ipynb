{
 "cells": [
  {
   "cell_type": "code",
   "execution_count": 2,
   "metadata": {},
   "outputs": [
    {
     "name": "stdout",
     "output_type": "stream",
     "text": [
      "https://s3.amazonaws.com/tripdata/JC-201801-citibike-tripdata.csv.zip\n",
      "https://s3.amazonaws.com/tripdata/JC-201802-citibike-tripdata.csv.zip\n",
      "https://s3.amazonaws.com/tripdata/JC-201803-citibike-tripdata.csv.zip\n",
      "https://s3.amazonaws.com/tripdata/JC-201804-citibike-tripdata.csv.zip\n",
      "https://s3.amazonaws.com/tripdata/JC-201805-citibike-tripdata.csv.zip\n",
      "https://s3.amazonaws.com/tripdata/JC-201806-citibike-tripdata.csv.zip\n",
      "https://s3.amazonaws.com/tripdata/JC-201807-citibike-tripdata.csv.zip\n",
      "https://s3.amazonaws.com/tripdata/JC-201808-citibike-tripdata.csv.zip\n",
      "https://s3.amazonaws.com/tripdata/JC-201809-citibike-tripdata.csv.zip\n",
      "https://s3.amazonaws.com/tripdata/JC-201810-citibike-tripdata.csv.zip\n",
      "https://s3.amazonaws.com/tripdata/JC-201811-citibike-tripdata.csv.zip\n",
      "https://s3.amazonaws.com/tripdata/JC-201812-citibike-tripdata.csv.zip\n"
     ]
    }
   ],
   "source": [
    "from zipfile import ZipFile\n",
    "from urllib.request import urlopen\n",
    "import pandas as pd\n",
    "import os\n",
    "\n",
    "URLs = ['https://s3.amazonaws.com/tripdata/JC-201801-citibike-tripdata.csv.zip',\\\n",
    "        'https://s3.amazonaws.com/tripdata/JC-201802-citibike-tripdata.csv.zip',\\\n",
    "        'https://s3.amazonaws.com/tripdata/JC-201803-citibike-tripdata.csv.zip',\\\n",
    "        'https://s3.amazonaws.com/tripdata/JC-201804-citibike-tripdata.csv.zip',\\\n",
    "        'https://s3.amazonaws.com/tripdata/JC-201805-citibike-tripdata.csv.zip',\\\n",
    "        'https://s3.amazonaws.com/tripdata/JC-201806-citibike-tripdata.csv.zip',\\\n",
    "        'https://s3.amazonaws.com/tripdata/JC-201807-citibike-tripdata.csv.zip',\\\n",
    "        'https://s3.amazonaws.com/tripdata/JC-201808-citibike-tripdata.csv.zip',\\\n",
    "        'https://s3.amazonaws.com/tripdata/JC-201809-citibike-tripdata.csv.zip',\\\n",
    "        'https://s3.amazonaws.com/tripdata/JC-201810-citibike-tripdata.csv.zip',\\\n",
    "        'https://s3.amazonaws.com/tripdata/JC-201811-citibike-tripdata.csv.zip',\\\n",
    "        'https://s3.amazonaws.com/tripdata/JC-201812-citibike-tripdata.csv.zip']\n",
    "\n",
    "# loop through to read the files\n",
    "dfs = []\n",
    "for URL in URLs:\n",
    "    url = urlopen(URL)\n",
    "    print(URL)\n",
    "    output = open(\"data/trips.zip\", \"wb\")\n",
    "    output.write(url.read())\n",
    "    output.close()\n",
    "    \n",
    "    df = pd.read_csv(\"data/trips.zip\")\n",
    "    dfs.append(df)\n",
    "#df.head()"
   ]
  },
  {
   "cell_type": "code",
   "execution_count": 3,
   "metadata": {},
   "outputs": [
    {
     "data": {
      "text/plain": [
       "'2018-12-31 23:25:49.6090'"
      ]
     },
     "execution_count": 3,
     "metadata": {},
     "output_type": "execute_result"
    }
   ],
   "source": [
    "df.starttime.max()"
   ]
  },
  {
   "cell_type": "code",
   "execution_count": 4,
   "metadata": {},
   "outputs": [
    {
     "data": {
      "text/plain": [
       "Index(['tripduration', 'starttime', 'stoptime', 'start station id',\n",
       "       'start station name', 'start station latitude',\n",
       "       'start station longitude', 'end station id', 'end station name',\n",
       "       'end station latitude', 'end station longitude', 'bikeid', 'usertype',\n",
       "       'birth year', 'gender'],\n",
       "      dtype='object')"
      ]
     },
     "execution_count": 4,
     "metadata": {},
     "output_type": "execute_result"
    }
   ],
   "source": [
    "dfs[0].columns"
   ]
  },
  {
   "cell_type": "code",
   "execution_count": 9,
   "metadata": {},
   "outputs": [
    {
     "data": {
      "text/plain": [
       "Index(['tripduration', 'starttime', 'stoptime', 'start station id',\n",
       "       'start station name', 'start station latitude',\n",
       "       'start station longitude', 'end station id', 'end station name',\n",
       "       'end station latitude', 'end station longitude', 'bikeid', 'usertype',\n",
       "       'birth year', 'gender'],\n",
       "      dtype='object')"
      ]
     },
     "execution_count": 9,
     "metadata": {},
     "output_type": "execute_result"
    }
   ],
   "source": [
    "df = pd.concat(dfs)\n",
    "df.columns"
   ]
  },
  {
   "cell_type": "code",
   "execution_count": 10,
   "metadata": {},
   "outputs": [],
   "source": [
    "#Files above are extracted by month and appended and saved as csv file.\n",
    "df.to_csv(\"data/trips_2018.csv\", encoding=\"utf-8\", index=False)"
   ]
  },
  {
   "cell_type": "code",
   "execution_count": null,
   "metadata": {},
   "outputs": [],
   "source": []
  }
 ],
 "metadata": {
  "kernelspec": {
   "display_name": "Python (PythonData)",
   "language": "python",
   "name": "pythondata"
  },
  "language_info": {
   "codemirror_mode": {
    "name": "ipython",
    "version": 3
   },
   "file_extension": ".py",
   "mimetype": "text/x-python",
   "name": "python",
   "nbconvert_exporter": "python",
   "pygments_lexer": "ipython3",
   "version": "3.7.1"
  }
 },
 "nbformat": 4,
 "nbformat_minor": 2
}
